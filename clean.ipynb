{
 "cells": [
  {
   "cell_type": "code",
   "execution_count": 8,
   "metadata": {},
   "outputs": [
    {
     "ename": "FileNotFoundError",
     "evalue": "[Errno 2] No such file or directory: 'brandeis'",
     "output_type": "error",
     "traceback": [
      "\u001b[0;31m---------------------------------------------------------------------------\u001b[0m",
      "\u001b[0;31mFileNotFoundError\u001b[0m                         Traceback (most recent call last)",
      "Cell \u001b[0;32mIn[8], line 22\u001b[0m\n\u001b[1;32m     19\u001b[0m output_filename \u001b[38;5;241m=\u001b[39m \u001b[38;5;28minput\u001b[39m(\u001b[38;5;124m\"\u001b[39m\u001b[38;5;124mOutput file\u001b[39m\u001b[38;5;124m\"\u001b[39m)\n\u001b[1;32m     21\u001b[0m \u001b[38;5;66;03m# DO NOT MODIFY THIS LINE. Retrieve the words from the specified file.\u001b[39;00m\n\u001b[0;32m---> 22\u001b[0m text \u001b[38;5;241m=\u001b[39m \u001b[38;5;28;43mopen\u001b[39;49m\u001b[43m(\u001b[49m\u001b[43minput_filename\u001b[49m\u001b[43m)\u001b[49m\u001b[38;5;241m.\u001b[39mread()\n\u001b[1;32m     24\u001b[0m \u001b[38;5;66;03m# TODO: The variable \"text\" contains the contents of the input file\u001b[39;00m\n\u001b[1;32m     25\u001b[0m \u001b[38;5;66;03m# as a string. Clean this text and produce a list of strings containing\u001b[39;00m\n\u001b[1;32m     26\u001b[0m \u001b[38;5;66;03m# the cleaned words from the text. Save this list of strings to the variable\u001b[39;00m\n\u001b[1;32m     27\u001b[0m \u001b[38;5;66;03m# \"words\".\u001b[39;00m\n\u001b[1;32m     29\u001b[0m \u001b[38;5;28;01mfor\u001b[39;00m characters \u001b[38;5;129;01min\u001b[39;00m PUNCTUATION:\n",
      "File \u001b[0;32m~/.local/lib/python3.12/site-packages/IPython/core/interactiveshell.py:324\u001b[0m, in \u001b[0;36m_modified_open\u001b[0;34m(file, *args, **kwargs)\u001b[0m\n\u001b[1;32m    317\u001b[0m \u001b[38;5;28;01mif\u001b[39;00m file \u001b[38;5;129;01min\u001b[39;00m {\u001b[38;5;241m0\u001b[39m, \u001b[38;5;241m1\u001b[39m, \u001b[38;5;241m2\u001b[39m}:\n\u001b[1;32m    318\u001b[0m     \u001b[38;5;28;01mraise\u001b[39;00m \u001b[38;5;167;01mValueError\u001b[39;00m(\n\u001b[1;32m    319\u001b[0m         \u001b[38;5;124mf\u001b[39m\u001b[38;5;124m\"\u001b[39m\u001b[38;5;124mIPython won\u001b[39m\u001b[38;5;124m'\u001b[39m\u001b[38;5;124mt let you open fd=\u001b[39m\u001b[38;5;132;01m{\u001b[39;00mfile\u001b[38;5;132;01m}\u001b[39;00m\u001b[38;5;124m by default \u001b[39m\u001b[38;5;124m\"\u001b[39m\n\u001b[1;32m    320\u001b[0m         \u001b[38;5;124m\"\u001b[39m\u001b[38;5;124mas it is likely to crash IPython. If you know what you are doing, \u001b[39m\u001b[38;5;124m\"\u001b[39m\n\u001b[1;32m    321\u001b[0m         \u001b[38;5;124m\"\u001b[39m\u001b[38;5;124myou can use builtins\u001b[39m\u001b[38;5;124m'\u001b[39m\u001b[38;5;124m open.\u001b[39m\u001b[38;5;124m\"\u001b[39m\n\u001b[1;32m    322\u001b[0m     )\n\u001b[0;32m--> 324\u001b[0m \u001b[38;5;28;01mreturn\u001b[39;00m \u001b[43mio_open\u001b[49m\u001b[43m(\u001b[49m\u001b[43mfile\u001b[49m\u001b[43m,\u001b[49m\u001b[43m \u001b[49m\u001b[38;5;241;43m*\u001b[39;49m\u001b[43margs\u001b[49m\u001b[43m,\u001b[49m\u001b[43m \u001b[49m\u001b[38;5;241;43m*\u001b[39;49m\u001b[38;5;241;43m*\u001b[39;49m\u001b[43mkwargs\u001b[49m\u001b[43m)\u001b[49m\n",
      "\u001b[0;31mFileNotFoundError\u001b[0m: [Errno 2] No such file or directory: 'brandeis'"
     ]
    }
   ],
   "source": [
    "### Filename: clean.ipynb\n",
    "### Author: Jack Ross-Pilkington\n",
    "### Reads a file containing arbitrary text. Sanitizes the input text, removing\n",
    "### all punctuation and converting words to lowercase. Writes those words to\n",
    "### another text file in order with one word per line.\n",
    "\n",
    "# DO NOT MODIFY THIS LINE. Imports a library to check whether a file exists.\n",
    "import os\n",
    "\n",
    "# All of the punctuation characters that should be removed during data cleaning.\n",
    "PUNCTUATION = ',!.?;\"()-\\\\:\\'' \n",
    "\n",
    "# TODO: Request as input the names of two files: the input text and the\n",
    "# file to which the cleaned words should be written. Store the input\n",
    "# filename in the variable \"input_filename\" and the output filename in\n",
    "# the variable \"output_filename\"\n",
    "\n",
    "input_filename = input(\"Input file\")\n",
    "output_filename = input(\"Output file\")\n",
    "\n",
    "# DO NOT MODIFY THIS LINE. Retrieve the words from the specified file.\n",
    "text = open(input_filename).read()\n",
    "\n",
    "# TODO: The variable \"text\" contains the contents of the input file\n",
    "# as a string. Clean this text and produce a list of strings containing\n",
    "# the cleaned words from the text. Save this list of strings to the variable\n",
    "# \"words\".\n",
    "\n",
    "for characters in PUNCTUATION:\n",
    "    text = text.replace(characters, \"\")\n",
    "text = text.lower()\n",
    "words = text.split()\n",
    "for letters in text:\n",
    "    if letters.isalpha() == False:\n",
    "        text = text.replace(letters, \"\")\n",
    "\n",
    "# DO NOT MODIFY ANYTHING BELOW THIS POINT.\n",
    "# Writes each item in \"words\" (a list of strings) to a text file whose name is\n",
    "# stored in \"output_filename\", one word per line. Print an error message if\n",
    "# the file already exists.\n",
    "if os.path.exists(output_filename):\n",
    "    print(\"ERROR: file {0} already exists. Quitting without saving.\".format(output_filename))\n",
    "else:\n",
    "    fp = open(output_filename, 'w')\n",
    "    fp.write('\\n'.join(words))\n",
    "    fp.close()\n"
   ]
  }
 ],
 "metadata": {
  "kernelspec": {
   "display_name": "Python 3",
   "language": "python",
   "name": "python3"
  },
  "language_info": {
   "codemirror_mode": {
    "name": "ipython",
    "version": 3
   },
   "file_extension": ".py",
   "mimetype": "text/x-python",
   "name": "python",
   "nbconvert_exporter": "python",
   "pygments_lexer": "ipython3",
   "version": "3.12.1"
  }
 },
 "nbformat": 4,
 "nbformat_minor": 2
}
